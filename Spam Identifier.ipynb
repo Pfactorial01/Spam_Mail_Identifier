{
 "cells": [
  {
   "cell_type": "code",
   "execution_count": null,
   "metadata": {},
   "outputs": [],
   "source": [
    "import warnings\n",
    "warnings.filterwarnings(\"ignore\")\n",
    "import pandas as pd\n",
    "from sklearn.feature_extraction.text import CountVectorizer\n",
    "from sklearn.naive_bayes import MultinomialNB\n",
    "\n",
    "emails = pd.read_csv(\"emails.csv\")\n",
    "\n",
    "emails['class'] = \"None\"\n",
    "\n",
    "emails['class'][emails['spam'].astype(int) == 1] = 'spam'\n",
    "emails['class'][emails['spam'].astype(int) == 0] = 'ham'\n",
    "\n",
    "emails.sample(10)\n",
    "\n",
    "\n",
    "vectorizer = CountVectorizer()\n",
    "counts = vectorizer.fit_transform(emails['text'].values)\n",
    "classifier = MultinomialNB()\n",
    "targets = emails['class'].values\n",
    "classifier.fit(counts, targets)\n",
    "\n",
    "example1 = input('Input email: ')\n",
    "examples = [example1]\n",
    "examples_counts = vectorizer.transform(examples)\n",
    "predictions = classifier.predict(examples_counts)\n",
    "print(predictions)"
   ]
  }
 ],
 "metadata": {
  "kernelspec": {
   "display_name": "Python 3",
   "language": "python",
   "name": "python3"
  },
  "language_info": {
   "codemirror_mode": {
    "name": "ipython",
    "version": 3
   },
   "file_extension": ".py",
   "mimetype": "text/x-python",
   "name": "python",
   "nbconvert_exporter": "python",
   "pygments_lexer": "ipython3",
   "version": "3.8.3"
  }
 },
 "nbformat": 4,
 "nbformat_minor": 4
}
